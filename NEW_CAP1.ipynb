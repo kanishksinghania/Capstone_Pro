{
 "cells": [
  {
   "cell_type": "code",
   "execution_count": 24,
   "metadata": {},
   "outputs": [],
   "source": [
    "import requests"
   ]
  },
  {
   "cell_type": "code",
   "execution_count": 25,
   "metadata": {},
   "outputs": [],
   "source": [
    "API_KEY = 'a35fa4b2b50bc3a8ccf7abcc66a51668'\n",
    "BASE_URL = 'https://api-football.com/api/v3'"
   ]
  },
  {
   "cell_type": "code",
   "execution_count": 26,
   "metadata": {},
   "outputs": [],
   "source": [
    "headers = {\n",
    "    'x-rapidapi-key': API_KEY,\n",
    "    'x-rapidapi-host': 'api-football.com'\n",
    "}"
   ]
  },
  {
   "cell_type": "code",
   "execution_count": 27,
   "metadata": {},
   "outputs": [],
   "source": [
    "def get_fixtures(date):\n",
    "    url = f'https://api.football-data.org/v4/fixtures?dateFrom={date}&dateTo={date}'\n",
    "    headers = {\n",
    "        'X-Auth-Token': 'a35fa4b2b50bc3a8ccf7abcc66a51668'  # Ensure your API token is valid\n",
    "    }\n",
    "    response = requests.get(url, headers=headers)\n",
    "\n",
    "    # Print the raw response text for debugging\n",
    "    print(f\"Raw response: {response.text}\")\n",
    "\n",
    "    if response.status_code != 200:\n",
    "        print(f\"Error: {response.status_code}, {response.text}\")\n",
    "        return {}\n",
    "    return response.json()\n"
   ]
  },
  {
   "cell_type": "code",
   "execution_count": 28,
   "metadata": {},
   "outputs": [],
   "source": [
    "def get_fixtures(date):\n",
    "    response = requests.get(f'{BASE_URL}/fixtures?date={date}', headers=headers)\n",
    "    return response.json()\n",
    "\n",
    "def get_match_details(match_id):\n",
    "    response = requests.get(f'{BASE_URL}/fixtures/{match_id}', headers=headers)\n",
    "    return response.json()\n",
    "\n",
    "def get_team_details(team_id):\n",
    "    response = requests.get(f'{BASE_URL}/teams/{team_id}', headers=headers)\n",
    "    return response.json()\n",
    "\n",
    "def get_player_details(player_id):\n",
    "    response = requests.get(f'{BASE_URL}/players/{player_id}', headers=headers)\n",
    "    return response.json()"
   ]
  },
  {
   "cell_type": "code",
   "execution_count": 29,
   "metadata": {},
   "outputs": [],
   "source": [
    "def get_fixtures(date):\n",
    "    url = f'https://api.football-data.org/v4/fixtures?dateFrom={date}&dateTo={date}'\n",
    "    headers = {\n",
    "        'X-Auth-Token': 'a35fa4b2b50bc3a8ccf7abcc66a51668'  # Ensure your API token is valid\n",
    "    }\n",
    "    response = requests.get(url, headers=headers)\n",
    "\n",
    "    # Print the raw response text for debugging\n",
    "    print(f\"Raw response: {response.text}\")\n",
    "\n",
    "    if response.status_code != 200:\n",
    "        print(f\"Error: {response.status_code}, {response.text}\")\n",
    "        return {}\n",
    "    \n",
    "    try:\n",
    "        return response.json()\n",
    "    except ValueError as e:\n",
    "        print(f\"Failed to decode JSON: {e}\")\n",
    "        return {}\n"
   ]
  },
  {
   "cell_type": "code",
   "execution_count": 30,
   "metadata": {},
   "outputs": [
    {
     "name": "stdout",
     "output_type": "stream",
     "text": [
      "Requesting URL: https://api.football-data.org/v4/matches?dateFrom=2024-09-25&dateTo=2024-09-25\n",
      "Error: 400, {\"message\":\"Your API token is invalid.\",\"errorCode\":400}\n",
      "No matches found for the specified date.\n"
     ]
    }
   ],
   "source": [
    "import requests\n",
    "\n",
    "def get_fixtures(date):\n",
    "    url = f\"https://api.football-data.org/v4/matches?dateFrom={date}&dateTo={date}\"\n",
    "    headers = {\"X-Auth-Token\": \"a35fa4b2b50bc3a8ccf7abcc66a51668\"}  # Replace with your actual API key\n",
    "\n",
    "    print(f\"Requesting URL: {url}\")  # Debugging output\n",
    "\n",
    "    response = requests.get(url, headers=headers)\n",
    "\n",
    "    if response.status_code == 200:\n",
    "        return response.json()\n",
    "    elif response.status_code == 404:\n",
    "        print(\"Error: The requested resource could not be found. Please check the date and endpoint.\")\n",
    "        return {}\n",
    "    else:\n",
    "        print(f\"Error: {response.status_code}, {response.text}\")\n",
    "        return {}\n",
    "\n",
    "def main():\n",
    "    date = input(\"Enter the date (YYYY-MM-DD) for fixtures: \")\n",
    "    fixtures = get_fixtures(date)  # Ensure this line exists\n",
    "\n",
    "    if fixtures and 'response' in fixtures:\n",
    "        print(f\"Available matches on {date}:\")\n",
    "        for i, fixture in enumerate(fixtures['response']):\n",
    "            print(f\"{i + 1}: {fixture['homeTeam']['name']} vs {fixture['awayTeam']['name']}\")\n",
    "    else:\n",
    "        print(\"No matches found for the specified date.\")\n",
    "\n",
    "if __name__ == \"__main__\":\n",
    "    main()\n"
   ]
  }
 ],
 "metadata": {
  "kernelspec": {
   "display_name": "Python 3",
   "language": "python",
   "name": "python3"
  },
  "language_info": {
   "codemirror_mode": {
    "name": "ipython",
    "version": 3
   },
   "file_extension": ".py",
   "mimetype": "text/x-python",
   "name": "python",
   "nbconvert_exporter": "python",
   "pygments_lexer": "ipython3",
   "version": "3.10.7"
  }
 },
 "nbformat": 4,
 "nbformat_minor": 2
}
